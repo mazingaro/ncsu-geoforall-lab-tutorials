{
 "cells": [
  {
   "cell_type": "markdown",
   "id": "a304693e-7ae3-4b0f-9423-3e6b86a80dbf",
   "metadata": {},
   "source": [
    "# Fast track to get you started with GRASS"
   ]
  },
  {
   "cell_type": "markdown",
   "id": "264750f0-60a2-4d61-8eae-4e5f8d56081a",
   "metadata": {},
   "source": [
    "In this notebook we'll go through the **5 basic steps** you need to follow to get started with GRASS. \n",
    "\n",
    "Usually GRASS GIS is regarded as a sophisticated and powerful software that can do almost anything (we totally agree!) but difficult to grasp for a first time user or newcomer used to other desktop packages. In this short tutorial, we'll demonstrate how to get you started in 5 simple steps.  "
   ]
  },
  {
   "cell_type": "markdown",
   "id": "56a14dca-bd90-4d0e-87b6-18f7bff6e498",
   "metadata": {},
   "source": [
    "## Step 1: Install the software"
   ]
  },
  {
   "cell_type": "markdown",
   "id": "50088034-b948-42d3-b0ca-ab6dd84d6bdf",
   "metadata": {},
   "source": [
    "GRASS offers binaries for the most used operative systems, i.e., Windows, Linux and Mac. The packages for each OS can be found at <https://grass.osgeo.org/download/>.\n",
    "\n",
    "Which version to choose? We recommend to go for the **current** release version, which at the time of writing this post is **8.3.2**. \n",
    "\n",
    "If you like testing the latest and greatest and do not mind finding some bug from time to time, you can go for the *preview* version which is *updated daily* and reflects the latest state of the source code. \n",
    "\n",
    "Let's see an example of how to install GRASS in **Linux/Ubuntu**:"
   ]
  },
  {
   "cell_type": "raw",
   "id": "4828ab33-37be-4fcd-93f0-6cd402dd5bbd",
   "metadata": {},
   "source": [
    "sudo add-apt-repository ppa:ubuntugis/ubuntugis-unstable\n",
    "sudo apt-get update\n",
    "sudo apt-get install grass grass-gui grass-dev"
   ]
  },
  {
   "cell_type": "markdown",
   "id": "94905659-4216-4030-8650-097cab342c8e",
   "metadata": {},
   "source": [
    "In the case of **Windows**, you can either select the **standalone installer** which will bring GRASS GIS bundeled with all its dependencies or use the **OSGeo for Windows (OSGeo4W) meta-installer** that will allow you to install many other geospatial software and will resolve all dependencies for you. "
   ]
  },
  {
   "cell_type": "markdown",
   "id": "d1538dab-3b2d-46be-b8bf-eb3a9f655cc4",
   "metadata": {},
   "source": [
    "## Step 2: Open GRASS GIS"
   ]
  },
  {
   "cell_type": "markdown",
   "id": "d1e90623-d07c-49cf-a33a-2ba3e84b569b",
   "metadata": {},
   "source": [
    "Just double click on the GRASS GIS icon or type `grass` in a terminal. In any case, you'll get both the terminal and the graphical user interface (GUI). You can use GRASS tools in either. It's a matter of taste, task on hand and habit, too."
   ]
  },
  {
   "cell_type": "markdown",
   "id": "0504ea1f-228c-4635-864f-8ce90a421b46",
   "metadata": {},
   "source": [
    "![](img/grass_gui.png)"
   ]
  },
  {
   "cell_type": "markdown",
   "id": "cc2b7ef6-e994-499e-beec-bd4fa120cb75",
   "metadata": {},
   "source": [
    "GRASS GUI has a single window layout. In the right part, you'll find the data browser panel which will allow you to navigate through your projects and data and the layer panel showing displayed layers. The panel in the middle is the map display. You might add several of those if you need. Finally, in the right side there's a multiple tab panel where you can find a searchable tools' tree, a console where to type GRASS commands, the history of executed commands in case you want to re-run a task and a simple Python console where you can use the GRASS Python API. "
   ]
  },
  {
   "cell_type": "markdown",
   "id": "da26033c-47ae-4ab4-8c17-e2544354e642",
   "metadata": {},
   "source": [
    "## Step 3: Create a project"
   ]
  },
  {
   "cell_type": "markdown",
   "id": "8e9018df-8d5e-4758-bf3a-96504afb23b3",
   "metadata": {},
   "source": [
    "You might have noticed that when you opened GRASS for the first time, a new directory was created in your home folder. This directory is called *grassdata* by default and will store all your GRASS projects. GRASS projects are simply folders that contain information regarding coordinate reference system (CRS). Within projects users can create further folders that we call mapsets to organize data per region, topic, etc. Each project though contains a special mapset called PERMANENT, which holds the information about CRS. In a multi-user set-up, all users will have access to PERMANENT, so this mapset is generally used to store basemaps or data that won't change."
   ]
  },
  {
   "cell_type": "markdown",
   "id": "52a81339-af2b-481c-bffe-cf3aa9dd5015",
   "metadata": {},
   "source": [
    "Within the grassdata directory you will see a sample project called *world_latlong_wgs84* which contains the PERMANENT mapset, with a sample vector layer. While there are other sample data sets that you could download to play around with GRASS and test it, you most likely have some data of your own that you want to analyse. \n",
    "\n",
    "Geospatial data is usually tied to a coordinate reference system (CRS), and as you might have deduced already, this is highly relevant in GRASS GIS, i.e. projects in GRASS GIS are defined by their CRS. This ensures that all your data in that project will be consistent and there won't be any CRS mismatch issue as it is so common elsewhere. "
   ]
  },
  {
   "cell_type": "markdown",
   "id": "d3067555-e818-4aa6-8568-b995bf0aa813",
   "metadata": {},
   "source": [
    "This is why you'll most likely need to create a project with your data CRS, eg. UTM 20 N, EU LAEA, etc. Let's see a simple way to create a project in GRASS GUI.\n",
    "\n",
    "Add screenshots"
   ]
  },
  {
   "cell_type": "markdown",
   "id": "b72fd3ef-bc5a-44fe-992a-b06bac50b984",
   "metadata": {},
   "source": [
    "Projects can also be created from command line when starting GRASS. This is how we would create an UTM20S project, for example: "
   ]
  },
  {
   "cell_type": "raw",
   "id": "d6ea8fbb-6eb9-4c20-a185-c526540786db",
   "metadata": {},
   "source": [
    "grass -c EPSG:32720 /home/username/grassdata/utm20s"
   ]
  },
  {
   "cell_type": "markdown",
   "id": "86a41074-8873-417a-89b9-65dddd1bb069",
   "metadata": {},
   "source": [
    "You might as well pass a georeferenced file which CRS will be used to create your project:"
   ]
  },
  {
   "cell_type": "raw",
   "id": "9a7a3ca5-2ec6-4f6f-88ab-c7af3e445eff",
   "metadata": {},
   "source": [
    "grass -c myraster.tif /home/username/grassdata/utm20s"
   ]
  },
  {
   "cell_type": "markdown",
   "id": "5a5443bf-809c-49db-b87b-eb8803139c45",
   "metadata": {},
   "source": [
    "<div class=\"alert alert-info\">More info: <a href=\"https://grass.osgeo.org/grass-stable/manuals/grass_database.html\">https://grass.osgeo.org/grass-stable/manuals/grass_database.html</a>.</div>"
   ]
  },
  {
   "cell_type": "markdown",
   "id": "19f60a0f-1800-4c73-88e0-f06b4f218e95",
   "metadata": {},
   "source": [
    "## Step 4: Import your data"
   ]
  },
  {
   "cell_type": "markdown",
   "id": "3ba43f4c-b2b5-4ab2-bba8-2ea921b10fc1",
   "metadata": {},
   "source": [
    "Once you have created your project, you'll notice it contains the PERMANENT mapset inside. You can import your data there or optionally you could create other mapsets to organize your work."
   ]
  },
  {
   "cell_type": "markdown",
   "id": "7dff5314-318b-4354-aa92-ccddb14d44c6",
   "metadata": {},
   "source": [
    "Now the big question: *Why do we need to import data?* GRASS has a native format for raster and vector data, that's why. And where exactly do we import the data?  Data are imported into mapsets within GRASS projects. So, in a way, GRASS provides a storage for your geospatial data and the tools to process and analyse them. One advantage of this structure is that you can easily zip your mapsets or projects to share with your colleagues. And guess what? Not only data will be there but also the history of commands you have executed on them. "
   ]
  },
  {
   "cell_type": "markdown",
   "id": "1e9c7a92-545c-424a-bdd6-7f3673e43043",
   "metadata": {},
   "source": [
    "So, how do we import data? Let's see an example for raster and vector data formats."
   ]
  },
  {
   "cell_type": "markdown",
   "id": "842cd7dd-9780-4739-ac86-d8ebedfeccb5",
   "metadata": {},
   "source": [
    "Add screenshots"
   ]
  },
  {
   "cell_type": "raw",
   "id": "5b00c8f2-a575-4e4b-b984-36a5b249722e",
   "metadata": {},
   "source": [
    "r.import input=myraster.tif output=myraster\n",
    "v.import input=myvector.gpkg output=myvector"
   ]
  },
  {
   "cell_type": "markdown",
   "id": "287bc4d8-4dcb-4072-b28b-a7903baec74b",
   "metadata": {},
   "source": [
    "Both r.import and v.import provide reprojection on the fly if your data CRS is different from that of your current project. If they do match, the most common tools to import data are [r.in.gdal](https://grass.osgeo.org/grass-stable/manuals/r.in.gdal.html) for raster and [v.in.ogr](https://grass.osgeo.org/grass-stable/manuals/v.in.ogr.html) for vector. "
   ]
  },
  {
   "cell_type": "markdown",
   "id": "568d18d3-507c-4106-8052-e264a1c84bb0",
   "metadata": {},
   "source": [
    "## Step 5: Set the computational region"
   ]
  },
  {
   "cell_type": "markdown",
   "id": "d30eeec8-6dbf-49a5-af11-724ec13ac85b",
   "metadata": {},
   "source": [
    "The last relevant step, especially if you'll be working with raster data, is to set the **computational region**. This is the extent and resolution of your region of interest or study area, and it will affect all your raster processings, i.e., *output rasters will have their extent and spatial resolution equal to the computational region*. You can set it to the extent of a vector, to the extent and resolution of a raster or manually introducing the north, south, east, and west coordinates."
   ]
  },
  {
   "cell_type": "markdown",
   "id": "a5534f09-487a-4008-8819-5642ca0bbb95",
   "metadata": {},
   "source": [
    "Why do we need a computational region? Raster data might be large and running processes on them might take a while. Setting a smaller computational region allows you to test your algorithms and parameter values, so once you are happy with the result, you can run the process for the whole map.  "
   ]
  },
  {
   "cell_type": "markdown",
   "id": "3248d558-73e3-4790-ac38-b758cbc8986a",
   "metadata": {},
   "source": [
    "![](img/region.png)"
   ]
  },
  {
   "cell_type": "markdown",
   "id": "c9ac3234-f96f-4f7f-aff4-6c4b5ecf9822",
   "metadata": {},
   "source": [
    "The computational region can be changed interactively in the GUI or using the `g.region` command."
   ]
  },
  {
   "cell_type": "raw",
   "id": "a0d26078-b2ca-4f87-8b8b-50c01da671a9",
   "metadata": {},
   "source": [
    "g.region -p raster=myraster"
   ]
  },
  {
   "cell_type": "markdown",
   "id": "56f56d17-7152-4052-9b8e-dd0f82b8decc",
   "metadata": {},
   "source": [
    "<div class=\"alert alert-info\">Have a look at the <a href=\"https://grass.osgeo.org/grass-stable/manuals/g.region.html\" target=\"_blank\">g.region</a> manual page for other options to set, save and retrieve the computational region.</div>"
   ]
  },
  {
   "cell_type": "markdown",
   "id": "3c59bc95-0f20-4df0-865d-00219f96a698",
   "metadata": {},
   "source": [
    "#### Getting help"
   ]
  },
  {
   "cell_type": "markdown",
   "id": "296b2eee-83f8-4d71-b11f-c0a74c71a2c4",
   "metadata": {},
   "source": [
    "There are several sources you can get help from:\n",
    "* [manual pages online](https://grass.osgeo.org/grass-stable/manuals/full_index.html)\n",
    "* [g.manual tool](https://grass.osgeo.org/grass-stable/manuals/g.manual.html)\n",
    "* `--help` or `--h` flag in command line\n",
    "* [Tutorials](https://grass.osgeo.org/learn/)\n",
    "* Join the GRASS community [chat](https://app.element.io/#/room/#grassgis_community:gitter.im) or subscribe to the [mailing list](https://lists.osgeo.org/mailman/listinfo/grass-user)."
   ]
  },
  {
   "cell_type": "markdown",
   "id": "d3f59613-8cfc-4d6e-8143-833634511e5f",
   "metadata": {},
   "source": [
    "### You are ready! Enjoy!"
   ]
  },
  {
   "cell_type": "markdown",
   "id": "ae8d2605-cad8-4744-8c35-3e92bcc3c067",
   "metadata": {},
   "source": []
  }
 ],
 "metadata": {
  "kernelspec": {
   "display_name": "Python 3 (ipykernel)",
   "language": "python",
   "name": "python3"
  },
  "language_info": {
   "codemirror_mode": {
    "name": "ipython",
    "version": 3
   },
   "file_extension": ".py",
   "mimetype": "text/x-python",
   "name": "python",
   "nbconvert_exporter": "python",
   "pygments_lexer": "ipython3",
   "version": "3.11.6"
  }
 },
 "nbformat": 4,
 "nbformat_minor": 5
}
